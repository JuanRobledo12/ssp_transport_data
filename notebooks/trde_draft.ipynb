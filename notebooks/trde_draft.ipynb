{
 "cells": [
  {
   "cell_type": "code",
   "execution_count": 13,
   "metadata": {},
   "outputs": [],
   "source": [
    "import os\n",
    "import sys\n",
    "import numpy as np\n",
    "import pandas as pd\n",
    "from sisepuede.core.support_classes import Regions, TimePeriods\n",
    "from sisepuede.core.model_attributes import ModelAttributes\n",
    "\n",
    "from sisepuede.manager.sisepuede_examples import SISEPUEDEExamples\n",
    "from sisepuede.manager.sisepuede_file_structure import SISEPUEDEFileStructure\n",
    "import sisepuede.core.support_classes as sc\n",
    "import sisepuede.transformers as trf\n",
    "import sisepuede.utilities._plotting as spu\n",
    "import sisepuede.utilities._toolbox as sf\n",
    "import sisepuede as si"
   ]
  },
  {
   "cell_type": "code",
   "execution_count": 19,
   "metadata": {},
   "outputs": [],
   "source": [
    "sector_name = 'transport'"
   ]
  },
  {
   "cell_type": "code",
   "execution_count": 20,
   "metadata": {},
   "outputs": [],
   "source": [
    "parent_dir = os.path.abspath('..')\n",
    "raw_data_dir_path = os.path.join(parent_dir, 'data', 'raw', sector_name)"
   ]
  },
  {
   "cell_type": "code",
   "execution_count": 22,
   "metadata": {},
   "outputs": [
    {
     "data": {
      "text/html": [
       "<div>\n",
       "<style scoped>\n",
       "    .dataframe tbody tr th:only-of-type {\n",
       "        vertical-align: middle;\n",
       "    }\n",
       "\n",
       "    .dataframe tbody tr th {\n",
       "        vertical-align: top;\n",
       "    }\n",
       "\n",
       "    .dataframe thead th {\n",
       "        text-align: right;\n",
       "    }\n",
       "</style>\n",
       "<table border=\"1\" class=\"dataframe\">\n",
       "  <thead>\n",
       "    <tr style=\"text-align: right;\">\n",
       "      <th></th>\n",
       "      <th>Country Name</th>\n",
       "      <th>ISO3</th>\n",
       "    </tr>\n",
       "  </thead>\n",
       "  <tbody>\n",
       "    <tr>\n",
       "      <th>0</th>\n",
       "      <td>Aruba</td>\n",
       "      <td>ABW</td>\n",
       "    </tr>\n",
       "    <tr>\n",
       "      <th>1</th>\n",
       "      <td>Africa Eastern and Southern</td>\n",
       "      <td>AFE</td>\n",
       "    </tr>\n",
       "    <tr>\n",
       "      <th>2</th>\n",
       "      <td>Afghanistan</td>\n",
       "      <td>AFG</td>\n",
       "    </tr>\n",
       "    <tr>\n",
       "      <th>3</th>\n",
       "      <td>Africa Western and Central</td>\n",
       "      <td>AFW</td>\n",
       "    </tr>\n",
       "    <tr>\n",
       "      <th>4</th>\n",
       "      <td>Angola</td>\n",
       "      <td>AGO</td>\n",
       "    </tr>\n",
       "  </tbody>\n",
       "</table>\n",
       "</div>"
      ],
      "text/plain": [
       "                  Country Name ISO3\n",
       "0                        Aruba  ABW\n",
       "1  Africa Eastern and Southern  AFE\n",
       "2                  Afghanistan  AFG\n",
       "3   Africa Western and Central  AFW\n",
       "4                       Angola  AGO"
      ]
     },
     "execution_count": 22,
     "metadata": {},
     "output_type": "execute_result"
    }
   ],
   "source": [
    "iso_code3_cw_df = pd.read_csv(os.path.join(raw_data_dir_path, 'iso_code3_cw.csv'))\n",
    "iso_code3_cw_df.head()"
   ]
  },
  {
   "cell_type": "code",
   "execution_count": 27,
   "metadata": {},
   "outputs": [],
   "source": [
    "df_freight=pd.read_csv(os.path.join(raw_data_dir_path, 'imputed_freight_data.csv'))\n",
    "df_aviation=pd.read_csv(os.path.join(raw_data_dir_path, 'imputed_aviation_freight_data.csv'),index_col=0)\n",
    "\n",
    "df_freight = df_freight.fillna(0)"
   ]
  },
  {
   "cell_type": "code",
   "execution_count": 28,
   "metadata": {},
   "outputs": [
    {
     "data": {
      "text/html": [
       "<div>\n",
       "<style scoped>\n",
       "    .dataframe tbody tr th:only-of-type {\n",
       "        vertical-align: middle;\n",
       "    }\n",
       "\n",
       "    .dataframe tbody tr th {\n",
       "        vertical-align: top;\n",
       "    }\n",
       "\n",
       "    .dataframe thead th {\n",
       "        text-align: right;\n",
       "    }\n",
       "</style>\n",
       "<table border=\"1\" class=\"dataframe\">\n",
       "  <thead>\n",
       "    <tr style=\"text-align: right;\">\n",
       "      <th></th>\n",
       "      <th>SUBJECT</th>\n",
       "      <th>LOCATION</th>\n",
       "      <th>TIME</th>\n",
       "      <th>Value</th>\n",
       "      <th>INDICATOR</th>\n",
       "      <th>MEASURE</th>\n",
       "      <th>FREQUENCY</th>\n",
       "    </tr>\n",
       "  </thead>\n",
       "  <tbody>\n",
       "    <tr>\n",
       "      <th>0</th>\n",
       "      <td>COAST</td>\n",
       "      <td>GEO</td>\n",
       "      <td>2019</td>\n",
       "      <td>545.61000</td>\n",
       "      <td>FREIGHTTRANSP</td>\n",
       "      <td>MLN_TONNEKM</td>\n",
       "      <td>A</td>\n",
       "    </tr>\n",
       "    <tr>\n",
       "      <th>1</th>\n",
       "      <td>COAST</td>\n",
       "      <td>ABW</td>\n",
       "      <td>2019</td>\n",
       "      <td>12602.74931</td>\n",
       "      <td>FREIGHTTRANSP</td>\n",
       "      <td>MLN_TONNEKM</td>\n",
       "      <td>A</td>\n",
       "    </tr>\n",
       "    <tr>\n",
       "      <th>2</th>\n",
       "      <td>COAST</td>\n",
       "      <td>IRQ</td>\n",
       "      <td>2018</td>\n",
       "      <td>38673.63137</td>\n",
       "      <td>FREIGHTTRANSP</td>\n",
       "      <td>MLN_TONNEKM</td>\n",
       "      <td>A</td>\n",
       "    </tr>\n",
       "    <tr>\n",
       "      <th>3</th>\n",
       "      <td>COAST</td>\n",
       "      <td>MNE</td>\n",
       "      <td>2017</td>\n",
       "      <td>81.60000</td>\n",
       "      <td>FREIGHTTRANSP</td>\n",
       "      <td>MLN_TONNEKM</td>\n",
       "      <td>A</td>\n",
       "    </tr>\n",
       "    <tr>\n",
       "      <th>4</th>\n",
       "      <td>COAST</td>\n",
       "      <td>ETH</td>\n",
       "      <td>2017</td>\n",
       "      <td>23472.87808</td>\n",
       "      <td>FREIGHTTRANSP</td>\n",
       "      <td>MLN_TONNEKM</td>\n",
       "      <td>A</td>\n",
       "    </tr>\n",
       "  </tbody>\n",
       "</table>\n",
       "</div>"
      ],
      "text/plain": [
       "  SUBJECT LOCATION  TIME        Value      INDICATOR      MEASURE FREQUENCY\n",
       "0   COAST      GEO  2019    545.61000  FREIGHTTRANSP  MLN_TONNEKM         A\n",
       "1   COAST      ABW  2019  12602.74931  FREIGHTTRANSP  MLN_TONNEKM         A\n",
       "2   COAST      IRQ  2018  38673.63137  FREIGHTTRANSP  MLN_TONNEKM         A\n",
       "3   COAST      MNE  2017     81.60000  FREIGHTTRANSP  MLN_TONNEKM         A\n",
       "4   COAST      ETH  2017  23472.87808  FREIGHTTRANSP  MLN_TONNEKM         A"
      ]
     },
     "execution_count": 28,
     "metadata": {},
     "output_type": "execute_result"
    }
   ],
   "source": [
    "df_freight.head()"
   ]
  },
  {
   "cell_type": "code",
   "execution_count": 29,
   "metadata": {},
   "outputs": [
    {
     "data": {
      "text/html": [
       "<div>\n",
       "<style scoped>\n",
       "    .dataframe tbody tr th:only-of-type {\n",
       "        vertical-align: middle;\n",
       "    }\n",
       "\n",
       "    .dataframe tbody tr th {\n",
       "        vertical-align: top;\n",
       "    }\n",
       "\n",
       "    .dataframe thead th {\n",
       "        text-align: right;\n",
       "    }\n",
       "</style>\n",
       "<table border=\"1\" class=\"dataframe\">\n",
       "  <thead>\n",
       "    <tr style=\"text-align: right;\">\n",
       "      <th></th>\n",
       "      <th>Nation</th>\n",
       "      <th>iso_code3</th>\n",
       "      <th>Year</th>\n",
       "      <th>Aviation (mtkm)</th>\n",
       "    </tr>\n",
       "  </thead>\n",
       "  <tbody>\n",
       "    <tr>\n",
       "      <th>0</th>\n",
       "      <td>Aruba</td>\n",
       "      <td>ABW</td>\n",
       "      <td>2011</td>\n",
       "      <td>530.150719</td>\n",
       "    </tr>\n",
       "    <tr>\n",
       "      <th>1</th>\n",
       "      <td>Aruba</td>\n",
       "      <td>ABW</td>\n",
       "      <td>2012</td>\n",
       "      <td>530.812871</td>\n",
       "    </tr>\n",
       "    <tr>\n",
       "      <th>2</th>\n",
       "      <td>Aruba</td>\n",
       "      <td>ABW</td>\n",
       "      <td>2013</td>\n",
       "      <td>531.473032</td>\n",
       "    </tr>\n",
       "    <tr>\n",
       "      <th>3</th>\n",
       "      <td>Aruba</td>\n",
       "      <td>ABW</td>\n",
       "      <td>2014</td>\n",
       "      <td>532.132309</td>\n",
       "    </tr>\n",
       "    <tr>\n",
       "      <th>4</th>\n",
       "      <td>Aruba</td>\n",
       "      <td>ABW</td>\n",
       "      <td>2015</td>\n",
       "      <td>532.791722</td>\n",
       "    </tr>\n",
       "  </tbody>\n",
       "</table>\n",
       "</div>"
      ],
      "text/plain": [
       "  Nation iso_code3  Year  Aviation (mtkm)\n",
       "0  Aruba       ABW  2011       530.150719\n",
       "1  Aruba       ABW  2012       530.812871\n",
       "2  Aruba       ABW  2013       531.473032\n",
       "3  Aruba       ABW  2014       532.132309\n",
       "4  Aruba       ABW  2015       532.791722"
      ]
     },
     "execution_count": 29,
     "metadata": {},
     "output_type": "execute_result"
    }
   ],
   "source": [
    "df_aviation.head()"
   ]
  },
  {
   "cell_type": "code",
   "execution_count": null,
   "metadata": {},
   "outputs": [],
   "source": [
    "# set the directory path and the prefix string\n",
    "directory = grandparentdir\n",
    "prefix = 'frac_trns_mtkm_dem_freight'\n",
    "\n",
    "frac_mtkm=[]\n",
    "# iterate over all items in the directory\n",
    "for item in os.listdir(directory):\n",
    "    # check if the item is a directory and starts with the prefix\n",
    "    if os.path.isdir(os.path.join(directory, item)) and item.startswith(prefix):\n",
    "        frac_mtkm.append(item)\n",
    "        # print the directory name\n",
    "        print(item)\n",
    "frac_mtkm"
   ]
  }
 ],
 "metadata": {
  "kernelspec": {
   "display_name": "ssp_data_env",
   "language": "python",
   "name": "python3"
  },
  "language_info": {
   "codemirror_mode": {
    "name": "ipython",
    "version": 3
   },
   "file_extension": ".py",
   "mimetype": "text/x-python",
   "name": "python",
   "nbconvert_exporter": "python",
   "pygments_lexer": "ipython3",
   "version": "3.11.10"
  }
 },
 "nbformat": 4,
 "nbformat_minor": 2
}
