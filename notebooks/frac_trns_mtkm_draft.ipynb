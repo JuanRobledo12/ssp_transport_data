{
 "cells": [
  {
   "cell_type": "code",
   "execution_count": 37,
   "metadata": {},
   "outputs": [],
   "source": [
    "import os\n",
    "import sys\n",
    "import numpy as np\n",
    "import pandas as pd\n",
    "from sisepuede.core.support_classes import Regions, TimePeriods\n",
    "from sisepuede.core.model_attributes import ModelAttributes\n",
    "\n",
    "from sisepuede.manager.sisepuede_examples import SISEPUEDEExamples\n",
    "from sisepuede.manager.sisepuede_file_structure import SISEPUEDEFileStructure\n",
    "import sisepuede.core.support_classes as sc\n",
    "import sisepuede.transformers as trf\n",
    "import sisepuede.utilities._plotting as spu\n",
    "import sisepuede.utilities._toolbox as sf\n",
    "import sisepuede as si"
   ]
  },
  {
   "cell_type": "code",
   "execution_count": 38,
   "metadata": {},
   "outputs": [
    {
     "name": "stdout",
     "output_type": "stream",
     "text": [
      "The autoreload extension is already loaded. To reload it, use:\n",
      "  %reload_ext autoreload\n"
     ]
    }
   ],
   "source": [
    "%load_ext autoreload\n",
    "%autoreload 2"
   ]
  },
  {
   "cell_type": "code",
   "execution_count": 39,
   "metadata": {},
   "outputs": [],
   "source": [
    "def get_iea_transport_data(cw_file_path, iea_transport_data_path):\n",
    "\n",
    "    # Load the IEA transport data\n",
    "    df_iea_transport = pd.read_csv(iea_transport_data_path, encoding='ISO-8859-1')\n",
    "\n",
    "    # Load the CW file\n",
    "    cw_df = pd.read_csv(cw_file_path)\n",
    "\n",
    "    # Create a dictionary for mapping old country names to new country names\n",
    "    iea_country_name_mapping = dict(zip(cw_df['old_country_name'], cw_df['new_country_name']))\n",
    "\n",
    "    # Create a copy of the dataframe to avoid modifying the original\n",
    "    df_iea_transport_copy = df_iea_transport.copy()\n",
    "\n",
    "    # Replace the country names in the copied dataframe using the mapping dictionary\n",
    "    df_iea_transport_copy['COUNTRY'] = df_iea_transport_copy['COUNTRY'].replace(iea_country_name_mapping)\n",
    "\n",
    "    return df_iea_transport_copy"
   ]
  },
  {
   "cell_type": "code",
   "execution_count": 40,
   "metadata": {},
   "outputs": [],
   "source": [
    "# Creates historical dataframe skeleton\n",
    "\n",
    "def create_historical_dataframe_skeleton(df_freight, var_name):\n",
    "    # Get unique ISO alpha-3 country codes from the freight dataframe\n",
    "    iso_alpha_3_codes = df_freight['LOCATION'].unique()\n",
    "    \n",
    "    # Get unique years from the freight dataframe\n",
    "    years = df_freight['TIME'].unique()\n",
    "    \n",
    "    # Create a list of tuples containing all combinations of country codes and years\n",
    "    iso_years = [(iso, year) for iso in iso_alpha_3_codes for year in years]\n",
    "    \n",
    "    # Create a dataframe with columns 'iso_alpha_3' and 'year' from the list of tuples\n",
    "    df_historical = pd.DataFrame(iso_years, columns=['iso_alpha_3', 'year'])\n",
    "    \n",
    "    # Add a new column for the variable name with initial value set to 0\n",
    "    df_historical[var_name] = 0\n",
    "\n",
    "    df_historical.sort_values(by=['iso_alpha_3', 'year'], ascending=True, inplace=True)\n",
    "    df_historical.reset_index(drop=True, inplace=True)\n",
    "    \n",
    "    return df_historical"
   ]
  },
  {
   "cell_type": "code",
   "execution_count": 41,
   "metadata": {},
   "outputs": [],
   "source": [
    "def calculate_mean_value_oecd(df_freight, years):\n",
    "    \"\"\"\n",
    "    Calculate the mean value of OECD data for each subject and year.\n",
    "\n",
    "    Parameters:\n",
    "    df_freight (pd.DataFrame): DataFrame containing freight data.\n",
    "    years (list): List of years to calculate the mean values for.\n",
    "\n",
    "    Returns:\n",
    "    dict: Dictionary containing mean values for each subject and year.\n",
    "    \"\"\"\n",
    "    # Initialize the dictionary to store mean values\n",
    "    mean_value_oecd = {}\n",
    "\n",
    "    # Get unique subjects from the freight dataframe\n",
    "    subjects = df_freight['SUBJECT'].unique()\n",
    "\n",
    "    # Iterate over each subject\n",
    "    for subject in subjects:\n",
    "        mean_value_oecd[subject] = {}\n",
    "        # Iterate over each year\n",
    "        for y in years:\n",
    "            vect = []\n",
    "            # Iterate over each unique location\n",
    "            for c in np.unique(df_freight['LOCATION'].values):\n",
    "                try:\n",
    "                    # Get the data value for the specific location, year, and subject\n",
    "                    data = df_freight.loc[\n",
    "                        (df_freight['LOCATION'] == c) &\n",
    "                        (df_freight['TIME'] == y) &\n",
    "                        (df_freight['SUBJECT'] == subject)\n",
    "                    ]['Value'].values[0]\n",
    "                except IndexError:\n",
    "                    data = 0\n",
    "\n",
    "                # Get the total value for the specific location and year\n",
    "                total = df_freight.loc[\n",
    "                    (df_freight['LOCATION'] == c) &\n",
    "                    (df_freight['TIME'] == y)\n",
    "                ]['Value'].sum()\n",
    "\n",
    "                # Calculate the ratio and append to the vector\n",
    "                if total > 1:\n",
    "                    vect.append(float(data) / total)\n",
    "                else:\n",
    "                    vect.append(0)\n",
    "\n",
    "            # Calculate the mean value for the subject and year\n",
    "            mean_value_oecd[subject][y] = np.mean(vect)\n",
    "\n",
    "    return mean_value_oecd"
   ]
  },
  {
   "cell_type": "code",
   "execution_count": 42,
   "metadata": {},
   "outputs": [],
   "source": [
    "def update_historical_data(df_historical_skeleton, df_freight, var_name, mean_value_oecd):\n",
    "    freight_df_iso_codes = df_freight['LOCATION'].unique()\n",
    "\n",
    "    for iso_alpha_3, year in zip(df_historical_skeleton['iso_alpha_3'].values, df_historical_skeleton['year'].values):\n",
    "        if iso_alpha_3 in freight_df_iso_codes:\n",
    "            subjects = ['RAIL', 'ROAD', 'INLAND', 'COAST']\n",
    "            data = {subject: 0 for subject in subjects}\n",
    "            \n",
    "            for subject in subjects:\n",
    "                try:\n",
    "                    data[subject] = df_freight.loc[\n",
    "                        (df_freight['LOCATION'] == iso_alpha_3) &\n",
    "                        (df_freight['TIME'] == year) &\n",
    "                        (df_freight['SUBJECT'] == subject)\n",
    "                    ]['Value'].values[0]\n",
    "                except IndexError:\n",
    "                    data[subject] = 0\n",
    "\n",
    "            total = sum(data.values())\n",
    "            dato = data['RAIL'] / total if total > 1 else 0\n",
    "\n",
    "            df_historical_skeleton.loc[\n",
    "                (df_historical_skeleton['iso_alpha_3'] == iso_alpha_3) &\n",
    "                (df_historical_skeleton['year'] == year), var_name\n",
    "            ] = dato\n",
    "        else:\n",
    "            dato = mean_value_oecd[year]\n",
    "            df_historical_skeleton.loc[\n",
    "                (df_historical_skeleton['iso_alpha_3'] == iso_alpha_3) &\n",
    "                (df_historical_skeleton['year'] == year), var_name\n",
    "            ] = dato\n",
    "\n",
    "    return df_historical_skeleton\n"
   ]
  },
  {
   "cell_type": "code",
   "execution_count": null,
   "metadata": {},
   "outputs": [],
   "source": [
    "def main():\n",
    "\n",
    "    parent_dir = os.path.abspath('..')\n",
    "    raw_data_dir_path = os.path.join(parent_dir, 'data', 'raw')\n",
    "    # cw_dir_path = os.path.join(parent_dir, 'data', 'cw')\n",
    "    processed_data_dir_path = os.path.join(parent_dir, 'data', 'processed')\n",
    "\n",
    "    # iso_alpha_3_cw_df = pd.read_csv(os.path.join(cw_dir_path, 'iso_alpha_3_cw.csv'))\n",
    "    df_freight=pd.read_csv(os.path.join(raw_data_dir_path, 'imputed_freight_data.csv'))\n",
    "\n",
    "    df_freight = df_freight.fillna(0)\n",
    "    \n",
    "    # df_iea_transport = get_iea_transport_data(os.path.join(cw_dir_path, 'IEA_country_name_cw.csv'), os.path.join(raw_data_dir_path, 'IEA_transport_data.csv')) # This is used for imputation but it does not seem to be used in the code\n",
    "\n",
    "    var_name='frac_trns_mtkm_dem_freight_rail_freight'\n",
    "\n",
    "    df_historical_skeleton = create_historical_dataframe_skeleton(df_freight, var_name)\n",
    "\n",
    "    mean_value_oecd_dict = calculate_mean_value_oecd(df_freight, sorted(df_freight['TIME'].unique()))\n",
    "\n",
    "\n",
    "    df_historical = update_historical_data(df_historical_skeleton, df_freight, var_name, mean_value_oecd_dict['RAIL'])\n",
    "    \n",
    "    print(df_historical)\n",
    "\n",
    "    df_historical.to_csv(os.path.join(processed_data_dir_path, 'historical', f'{var_name}.csv'), index=False)\n",
    "    \n",
    "    return None"
   ]
  },
  {
   "cell_type": "code",
   "execution_count": 44,
   "metadata": {},
   "outputs": [
    {
     "name": "stderr",
     "output_type": "stream",
     "text": [
      "/tmp/ipykernel_138457/3622335513.py:22: FutureWarning: Setting an item of incompatible dtype is deprecated and will raise an error in a future version of pandas. Value '0.16546762587339678' has dtype incompatible with int64, please explicitly cast to a compatible dtype first.\n",
      "  df_historical_skeleton.loc[\n"
     ]
    },
    {
     "name": "stdout",
     "output_type": "stream",
     "text": [
      "     iso_alpha_3  year  frac_trns_mtkm_dem_freight_rail_freight\n",
      "0            ABW  2011                                 0.165468\n",
      "1            ABW  2012                                 0.165468\n",
      "2            ABW  2013                                 0.368221\n",
      "3            ABW  2014                                 0.368223\n",
      "4            ABW  2015                                 0.368216\n",
      "...          ...   ...                                      ...\n",
      "1766         ZWE  2017                                 0.165468\n",
      "1767         ZWE  2018                                 0.165468\n",
      "1768         ZWE  2019                                 0.165468\n",
      "1769         ZWE  2020                                 0.165468\n",
      "1770         ZWE  2021                                 0.165468\n",
      "\n",
      "[1771 rows x 3 columns]\n"
     ]
    }
   ],
   "source": [
    "main()"
   ]
  }
 ],
 "metadata": {
  "kernelspec": {
   "display_name": "ssp_data_env",
   "language": "python",
   "name": "python3"
  },
  "language_info": {
   "codemirror_mode": {
    "name": "ipython",
    "version": 3
   },
   "file_extension": ".py",
   "mimetype": "text/x-python",
   "name": "python",
   "nbconvert_exporter": "python",
   "pygments_lexer": "ipython3",
   "version": "3.11.10"
  }
 },
 "nbformat": 4,
 "nbformat_minor": 2
}
